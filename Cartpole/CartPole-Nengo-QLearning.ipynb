{
 "cells": [
  {
   "cell_type": "markdown",
   "metadata": {},
   "source": [
    "# Simulations"
   ]
  },
  {
   "cell_type": "code",
   "execution_count": null,
   "metadata": {},
   "outputs": [],
   "source": [
    "import numpy as np\n",
    "import nengo\n",
    "import matplotlib.pyplot as plt\n",
    "import gym\n",
    "from Nengo.NengoGymCartpole import NengoGymCartpole\n",
    "from Nengo.NengoModelCartpole import NengoModelCartpole"
   ]
  },
  {
   "cell_type": "code",
   "execution_count": 3,
   "metadata": {},
   "outputs": [
    {
     "name": "stdout",
     "output_type": "stream",
     "text": [
      "Gym Init\n",
      "Action Space:\n",
      "Discrete(2)\n",
      "Observation Space:\n",
      "Box(-3.4028234663852886e+38, 3.4028234663852886e+38, (4,), float32)\n",
      "[4.8000002e+00 3.4028235e+38 4.1887903e-01 3.4028235e+38]\n",
      "[-4.8000002e+00 -3.4028235e+38 -4.1887903e-01 -3.4028235e+38]\n"
     ]
    }
   ],
   "source": [
    "nengo_gym_cartpole = NengoGymCartpole(update_each=70)"
   ]
  },
  {
   "cell_type": "code",
   "execution_count": 4,
   "metadata": {},
   "outputs": [
    {
     "name": "stdout",
     "output_type": "stream",
     "text": [
      "[0. 0.]\n"
     ]
    }
   ],
   "source": [
    "nengo_cartpole_model = NengoModelCartpole(nengo_gym_cartpole)"
   ]
  },
  {
   "cell_type": "code",
   "execution_count": 5,
   "metadata": {},
   "outputs": [
    {
     "data": {
      "text/html": [
       "\n",
       "            <script type=\"text/javascript\" id=\"44566bca-9c77-4364-9772-fe7163a392a7\">\n",
       "            {\n",
       "                let req = new XMLHttpRequest();\n",
       "                req.addEventListener(\"load\", function() {\n",
       "                    if (this.status != 200 && this.response != 'OK') {\n",
       "                        let p = document.getElementById('44566bca-9c77-4364-9772-fe7163a392a7').parentNode;\n",
       "                        p.innerHTML +=\n",
       "                            'The nengo_gui.jupyter notebook server ' +\n",
       "                            'extension was not loaded. Please activate it ' +\n",
       "                            'with the following command:' +\n",
       "                            '<pre>jupyter serverextension enable ' +\n",
       "                            'nengo_gui.jupyter</pre>';\n",
       "                        p.classList.add('output_stderr');\n",
       "                    }\n",
       "                });\n",
       "                req.open('GET', './nengo/check', true);\n",
       "                req.send();\n",
       "            }\n",
       "            </script>\n",
       "        "
      ],
      "text/plain": [
       "<IPython.core.display.HTML object>"
      ]
     },
     "metadata": {},
     "output_type": "display_data"
    },
    {
     "data": {
      "application/vdom.v1+json": {
       "attributes": {
        "id": "43f48c3e-d425-4de1-ba3a-31cb7e196e9b"
       },
       "children": [
        {
         "attributes": {
          "allowfullscreen": "allowfullscreen",
          "class": "cell",
          "frameborder": "0",
          "height": "600",
          "src": "./nengo/41711/?token=594b821bac9681cd550a84efcfcd71dd208d6e0193f7bf28",
          "style": {
           "border": "1px solid #eee",
           "boxSizing": "border-box"
          },
          "width": "100%"
         },
         "tagName": "iframe"
        }
       ],
       "tagName": "div"
      },
      "text/html": [
       "\n",
       "                <div id=\"ac08a594-8d07-4dd5-b33a-adcaf9f8750d\">\n",
       "                    <iframe\n",
       "                        src=\"./nengo/41711/?token=594b821bac9681cd550a84efcfcd71dd208d6e0193f7bf28\"\n",
       "                        width=\"100%\"\n",
       "                        height=\"600\"\n",
       "                        frameborder=\"0\"\n",
       "                        class=\"cell\"\n",
       "                        style=\"border: 1px solid #eee; box-sizing: border-box;\"\n",
       "                        allowfullscreen></iframe>\n",
       "                </div>\n",
       "            "
      ]
     },
     "metadata": {},
     "output_type": "display_data"
    }
   ],
   "source": [
    "from nengo_gui.ipython import IPythonViz\n",
    "IPythonViz(nengo_cartpole_model, 'my-model.cfg')"
   ]
  },
  {
   "cell_type": "code",
   "execution_count": null,
   "metadata": {},
   "outputs": [],
   "source": [
    "def plot_running_avg(totalrewards):\n",
    "    N = len(totalrewards)\n",
    "    running_avg = np.empty(N)\n",
    "    for t in range(N):\n",
    "        running_avg[t] = totalrewards[max(0, t-100):(t+1)].mean()\n",
    "    plt.plot(running_avg)\n",
    "    plt.title(\"Running Average of rewards\")\n",
    "    plt.xlabel(\"Simulation time\")\n",
    "    plt.ylabel(\"Score\")\n",
    "    plt.show()"
   ]
  },
  {
   "cell_type": "code",
   "execution_count": 6,
   "metadata": {},
   "outputs": [
    {
     "data": {
      "image/png": "[encoded data removed]",
      "text/plain": [
       "<Figure size 432x288 with 1 Axes>"
      ]
     },
     "metadata": {
      "needs_background": "light"
     },
     "output_type": "display_data"
    }
   ],
   "source": [
    "plot_running_avg(np.array(nengo_gym_cartpole.true_total_rewards))"
   ]
  },
  {
   "cell_type": "code",
   "execution_count": 7,
   "metadata": {},
   "outputs": [
    {
     "data": {
      "text/plain": [
       "[<matplotlib.lines.Line2D at 0x7fb32c1cb358>]"
      ]
     },
     "execution_count": 7,
     "metadata": {},
     "output_type": "execute_result"
    },
    {
     "data": {
      "image/png": "[encoded data removed]",
      "text/plain": [
       "<Figure size 432x288 with 1 Axes>"
      ]
     },
     "metadata": {
      "needs_background": "light"
     },
     "output_type": "display_data"
    }
   ],
   "source": [
    "plt.plot(nengo_gym_cartpole.true_total_rewards)"
   ]
  },
  {
   "cell_type": "markdown",
   "metadata": {},
   "source": [
    "# Architecture sandbox\n",
    "\n",
    "This setup is used to try out different architecture and see if the neural computation they are performing is the one we are searching for"
   ]
  },
  {
   "cell_type": "code",
   "execution_count": null,
   "metadata": {},
   "outputs": [],
   "source": [
    "import nengo\n",
    "import numpy as np\n",
    "import matplotlib.pyplot as plt\n",
    "\n",
    "FAST_TAU = 0.001\n",
    "SLOW_TAU = 0.01\n",
    "\n",
    "with nengo.Network() as model:\n",
    "    node = nengo.Node(lambda t : [np.sin(20*t), np.cos(20*t)])\n",
    "    \n",
    "    state = nengo.Ensemble(2000, 2)\n",
    "    nengo.Connection(node, state, synapse=0)\n",
    "    \n",
    "    value_FAST = nengo.Ensemble(3000, 2)\n",
    "    \n",
    "    nengo.Connection(state, value_FAST, synapse=0)\n",
    "    \n",
    "    BG = nengo.networks.BasalGanglia(dimensions=2)\n",
    "    nengo.Connection(value_FAST, BG.input)\n",
    "    \n",
    "    thalamus = nengo.networks.Thalamus(dimensions=2)\n",
    "    nengo.Connection(BG.input, thalamus.input)\n",
    "    \n",
    "    probe_FAST = nengo.Probe(value_FAST, synapse=None)\n",
    "    probe_BG = nengo.Probe(BG.output, synapse=None)\n",
    "    probe_thalamus = nengo.Probe(thalamus.output, synapse=None)\n",
    "\n",
    "with nengo.Simulator(model) as sim:\n",
    "    sim.run(0.5)"
   ]
  },
  {
   "cell_type": "code",
   "execution_count": null,
   "metadata": {},
   "outputs": [],
   "source": [
    "def compute_theory():\n",
    "    t = np.arange(0, 0.5, 0.001)\n",
    "    sine = np.sin(20*t)\n",
    "    \n",
    "    def compute_td_error(index):\n",
    "        td = 0.9 * sine[index + 1] - sine[index]\n",
    "\n",
    "        return td\n",
    "    \n",
    "    tds = []\n",
    "\n",
    "    for index, _ in enumerate(sine[:-1]):\n",
    "        tds.append(compute_td_error(index))\n",
    "    \n",
    "    return t, sine, tds"
   ]
  },
  {
   "cell_type": "code",
   "execution_count": null,
   "metadata": {},
   "outputs": [],
   "source": [
    "t, sine, tds = compute_theory()\n",
    "\n",
    "rewards = np.ones_like(sine)"
   ]
  },
  {
   "cell_type": "code",
   "execution_count": null,
   "metadata": {},
   "outputs": [],
   "source": [
    "plt.figure(figsize=(15, 10))\n",
    "\n",
    "plt.plot(sim.data[probe_FAST])\n",
    "plt.plot(sim.data[probe_BG])\n",
    "plt.plot(sim.data[probe_thalamus])\n",
    "\n",
    "plt.legend([\"sine\", 'cos', \"bg_for_sine\", \"bg_for_cos\", \"thal_for_sine\", \"thal_for_cos\"])\n",
    "\n",
    "plt.show()"
   ]
  }
 ],
 "metadata": {
  "kernelspec": {
   "display_name": "Python 3",
   "language": "python",
   "name": "python3"
  },
  "language_info": {
   "codemirror_mode": {
    "name": "ipython",
    "version": 3
   },
   "file_extension": ".py",
   "mimetype": "text/x-python",
   "name": "python",
   "nbconvert_exporter": "python",
   "pygments_lexer": "ipython3",
   "version": "3.7.3"
  }
 },
 "nbformat": 4,
 "nbformat_minor": 2
}
